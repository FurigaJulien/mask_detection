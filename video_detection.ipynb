{
 "metadata": {
  "language_info": {
   "codemirror_mode": {
    "name": "ipython",
    "version": 3
   },
   "file_extension": ".py",
   "mimetype": "text/x-python",
   "name": "python",
   "nbconvert_exporter": "python",
   "pygments_lexer": "ipython3",
   "version": "3.8.3-final"
  },
  "orig_nbformat": 2,
  "kernelspec": {
   "name": "python3",
   "display_name": "Python 3",
   "language": "python"
  }
 },
 "nbformat": 4,
 "nbformat_minor": 2,
 "cells": [
  {
   "cell_type": "code",
   "execution_count": 3,
   "metadata": {},
   "outputs": [],
   "source": [
    "import tensorflow as tf\n",
    "import cv2\n",
    "import numpy as np\n",
    "import simpleaudio as sa\n",
    "from time import time"
   ]
  },
  {
   "cell_type": "code",
   "execution_count": 8,
   "metadata": {},
   "outputs": [],
   "source": [
    "model = tf.keras.models.load_model(\"C:/Users/julie/Desktop/Microsoft/Mask Detection/detection video/model_mask/model\")"
   ]
  },
  {
   "cell_type": "code",
   "execution_count": 11,
   "metadata": {},
   "outputs": [],
   "source": [
    "vid = cv2.VideoCapture(0) \n",
    "s_img = cv2.imread(\"C:/Users/julie/Desktop/Microsoft/Mask Detection/detection video/resources/smiley_happy.png\")\n",
    "s_img=cv2.resize(s_img,(50,50))\n",
    "\n",
    "v_img = cv2.imread(\"C:/Users/julie/Desktop/Microsoft/Mask Detection/detection video/resources/smiley_sad.png\")\n",
    "v_img=cv2.resize(v_img,(50,50))\n",
    "\n",
    "face_cascade = cv2.CascadeClassifier('resources/haarcascade_frontalface_default.xml')\n",
    "wave_obj = sa.WaveObject.from_wave_file(\"resources/sound.wav\")\n",
    "timeStart=time()\n",
    "\n",
    "\n",
    "while(True): \n",
    "      \n",
    "    \n",
    "    ret, frame = vid.read()\n",
    "    frame =cv2.addWeighted(frame, 0.8, np.zeros(frame.shape, frame.dtype), 0, 0)\n",
    "    \n",
    "    faces = face_cascade.detectMultiScale(frame, scaleFactor=1.2, minNeighbors=7)\n",
    "\n",
    "\n",
    "    for (x,y,w,h) in faces:\n",
    "\n",
    "        frame_predict=frame[y-45:y+w+70,x-45:x+h+70]\n",
    "\n",
    "\n",
    "        frame_predict=cv2.resize(frame_predict,(96,96))\n",
    "\n",
    "        \n",
    "        frame_predict=frame_predict.reshape(-1,96,96,3).astype('float')/255\n",
    "        y_pred=model.predict_classes(frame_predict)\n",
    "\n",
    "\n",
    "\n",
    "        if y_pred[0]==1:\n",
    "            \n",
    "            l_img = frame\n",
    "            x_offset=y_offset=50\n",
    "            frame[y_offset:y_offset+s_img.shape[0], x_offset:x_offset+s_img.shape[1]] = s_img\n",
    "        \n",
    "        else:\n",
    "\n",
    "            l_img = frame\n",
    "            x_offset=y_offset=50\n",
    "            frame[y_offset:y_offset+v_img.shape[0], x_offset:x_offset+v_img.shape[1]] = v_img\n",
    "\n",
    "            timeStop=time()\n",
    "            if timeStop-timeStart >15 :\n",
    "                timeStart=timeStop\n",
    "                \n",
    "                play_obj = wave_obj.play()\n",
    "\n",
    "\n",
    "    cv2.imshow('frame', frame) \n",
    "\n",
    "    if cv2.waitKey(1) & 0xFF == ord('q'): \n",
    "        break\n",
    "\n",
    "vid.release() \n",
    "cv2.destroyAllWindows() "
   ]
  },
  {
   "cell_type": "code",
   "execution_count": 6,
   "metadata": {},
   "outputs": [],
   "source": [
    "\n"
   ]
  }
 ]
}